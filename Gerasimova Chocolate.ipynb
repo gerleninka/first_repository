{
 "cells": [
  {
   "cell_type": "code",
   "execution_count": 93,
   "id": "b6b2d89f-d6bf-427e-aa7a-5c2418cca8c9",
   "metadata": {},
   "outputs": [
    {
     "name": "stdout",
     "output_type": "stream",
     "text": [
      "Шоколадный батончик, добавка: кокос\n",
      "Шоколадный батончик, 100 рублей\n",
      "Шоколадный батончик, 50 рублей\n",
      "Обычный шоколадный батончик\n"
     ]
    },
    {
     "ename": "ValueError",
     "evalue": "Цена должна быть больше нуля.",
     "output_type": "error",
     "traceback": [
      "\u001b[1;31m---------------------------------------------------------------------------\u001b[0m",
      "\u001b[1;31mValueError\u001b[0m                                Traceback (most recent call last)",
      "Cell \u001b[1;32mIn[93], line 26\u001b[0m\n\u001b[0;32m     24\u001b[0m     alyonka\u001b[38;5;241m.\u001b[39mshow_my_chocolate()\n\u001b[1;32m---> 26\u001b[0m     weird \u001b[38;5;241m=\u001b[39m Chocolate(\u001b[38;5;241m-\u001b[39m\u001b[38;5;241m10\u001b[39m)\n\u001b[0;32m     27\u001b[0m \u001b[38;5;28;01mexcept\u001b[39;00m \u001b[38;5;167;01mValueError\u001b[39;00m:\n",
      "Cell \u001b[1;32mIn[93], line 4\u001b[0m, in \u001b[0;36mChocolate.__init__\u001b[1;34m(self, price, taste)\u001b[0m\n\u001b[0;32m      3\u001b[0m \u001b[38;5;28;01mif\u001b[39;00m price \u001b[38;5;241m<\u001b[39m\u001b[38;5;241m=\u001b[39m \u001b[38;5;241m0\u001b[39m:\n\u001b[1;32m----> 4\u001b[0m     \u001b[38;5;28;01mraise\u001b[39;00m \u001b[38;5;167;01mValueError\u001b[39;00m(\u001b[38;5;124m\"\u001b[39m\u001b[38;5;124mЦена должна быть больше нуля.\u001b[39m\u001b[38;5;124m\"\u001b[39m)\n\u001b[0;32m      5\u001b[0m \u001b[38;5;28mself\u001b[39m\u001b[38;5;241m.\u001b[39mprice \u001b[38;5;241m=\u001b[39m price\n",
      "\u001b[1;31mValueError\u001b[0m: Цена должна быть больше нуля.",
      "\nDuring handling of the above exception, another exception occurred:\n",
      "\u001b[1;31mValueError\u001b[0m                                Traceback (most recent call last)",
      "Cell \u001b[1;32mIn[93], line 28\u001b[0m\n\u001b[0;32m     26\u001b[0m     weird \u001b[38;5;241m=\u001b[39m Chocolate(\u001b[38;5;241m-\u001b[39m\u001b[38;5;241m10\u001b[39m)\n\u001b[0;32m     27\u001b[0m \u001b[38;5;28;01mexcept\u001b[39;00m \u001b[38;5;167;01mValueError\u001b[39;00m:\n\u001b[1;32m---> 28\u001b[0m     \u001b[38;5;28;01mraise\u001b[39;00m \u001b[38;5;167;01mValueError\u001b[39;00m(\u001b[38;5;124m\"\u001b[39m\u001b[38;5;124mЦена должна быть больше нуля.\u001b[39m\u001b[38;5;124m\"\u001b[39m)\n",
      "\u001b[1;31mValueError\u001b[0m: Цена должна быть больше нуля."
     ]
    }
   ],
   "source": [
    "class Chocolate:\n",
    "    def __init__(self, price: float, taste: str = None):\n",
    "        if price <= 0:\n",
    "            raise ValueError(\"Цена должна быть больше нуля.\")\n",
    "        self.price = price\n",
    "        self.taste = taste\n",
    "\n",
    "    def show_my_chocolate(self):\n",
    "        if self.taste:\n",
    "            print(f\"Шоколадный батончик, добавка: {self.taste}\")\n",
    "        else:\n",
    "            print(\"Обычный шоколадный батончик\")\n",
    "            \n",
    "    def __str__(self):\n",
    "        return f\"Шоколадный батончик, {self.price} рублей\"\n",
    "\n",
    "try:\n",
    "    baunti = Chocolate(100, 'кокос')\n",
    "    baunti.show_my_chocolate()\n",
    "    print(baunti)\n",
    "\n",
    "    alyonka = Chocolate(50)\n",
    "    print(alyonka)\n",
    "    alyonka.show_my_chocolate()\n",
    "\n",
    "    weird = Chocolate(-10)\n",
    "except ValueError:\n",
    "    raise ValueError(\"Цена должна быть больше нуля.\")"
   ]
  },
  {
   "cell_type": "code",
   "execution_count": null,
   "id": "ab434373-a013-4567-a889-e0b3c0eae5df",
   "metadata": {},
   "outputs": [],
   "source": []
  }
 ],
 "metadata": {
  "kernelspec": {
   "display_name": "Python [conda env:base] *",
   "language": "python",
   "name": "conda-base-py"
  },
  "language_info": {
   "codemirror_mode": {
    "name": "ipython",
    "version": 3
   },
   "file_extension": ".py",
   "mimetype": "text/x-python",
   "name": "python",
   "nbconvert_exporter": "python",
   "pygments_lexer": "ipython3",
   "version": "3.12.7"
  }
 },
 "nbformat": 4,
 "nbformat_minor": 5
}
